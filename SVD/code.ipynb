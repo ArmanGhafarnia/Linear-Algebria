{
 "cells": [
  {
   "cell_type": "code",
   "execution_count": 7,
   "id": "83624cb2",
   "metadata": {},
   "outputs": [
    {
     "name": "stdout",
     "output_type": "stream",
     "text": [
      "[[ 4.71168956]\n",
      " [ 0.85439226]\n",
      " [ 1.92864865]\n",
      " [-1.10672304]\n",
      " [-2.49824349]\n",
      " [-3.88976395]]\n"
     ]
    }
   ],
   "source": [
    "from numpy import array\n",
    "from numpy import mean\n",
    "from numpy import cov\n",
    "from numpy import mean\n",
    "from numpy import linalg\n",
    "from numpy import dot\n",
    "from numpy import delete\n",
    "\n",
    "arr = [[2, 1], [3, 5], [4, 3], [5, 6], [6, 7], [7, 8]]\n",
    "ds = array(arr)\n",
    "matrix = cov(ds - mean(ds , axis=0) , rowvar = False)\n",
    "L , U = linalg.eig(matrix)\n",
    "dt = dot(ds - mean(ds , axis=0), U)\n",
    "print(delete(dt,0,1))"
   ]
  }
 ],
 "metadata": {
  "kernelspec": {
   "display_name": "Python 3 (ipykernel)",
   "language": "python",
   "name": "python3"
  },
  "language_info": {
   "codemirror_mode": {
    "name": "ipython",
    "version": 3
   },
   "file_extension": ".py",
   "mimetype": "text/x-python",
   "name": "python",
   "nbconvert_exporter": "python",
   "pygments_lexer": "ipython3",
   "version": "3.9.6"
  }
 },
 "nbformat": 4,
 "nbformat_minor": 5
}
